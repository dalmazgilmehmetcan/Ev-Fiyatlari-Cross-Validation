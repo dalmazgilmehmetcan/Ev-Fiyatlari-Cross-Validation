{
 "cells": [
  {
   "cell_type": "code",
   "execution_count": 21,
   "metadata": {},
   "outputs": [],
   "source": [
    "from  sklearn import  datasets\n",
    "from sklearn.model_selection import train_test_split\n",
    "from sklearn import tree\n",
    "from sklearn.metrics import accuracy_score"
   ]
  },
  {
   "cell_type": "code",
   "execution_count": 22,
   "metadata": {},
   "outputs": [],
   "source": [
    "iris=datasets.load_iris()\n",
    "x=iris.data\n",
    "y=iris.target"
   ]
  },
  {
   "cell_type": "code",
   "execution_count": 23,
   "metadata": {},
   "outputs": [],
   "source": [
    "x_train,x_test,y_train,y_test=train_test_split(x,y,test_size=.5)"
   ]
  },
  {
   "cell_type": "code",
   "execution_count": 24,
   "metadata": {},
   "outputs": [],
   "source": [
    "#Scaling data\n",
    "from sklearn.preprocessing import StandardScaler\n",
    "from sklearn.model_selection import cross_val_score\n",
    "\n",
    "sc = StandardScaler()\n",
    "sc.fit(x_train)\n",
    "X_train_std = sc.transform(x_train)\n",
    "X_test_std = sc.transform(x_test)"
   ]
  },
  {
   "cell_type": "code",
   "execution_count": 25,
   "metadata": {},
   "outputs": [
    {
     "name": "stdout",
     "output_type": "stream",
     "text": [
      "SVM Algoritmasının eğitim verisi doğruluk oranı = %96.00\n",
      "SVM Algoritmasının test verisi doğruluk oranı = %93.33\n"
     ]
    }
   ],
   "source": [
    "#SVC(Support Vector Classification)\n",
    "from sklearn.svm import SVC\n",
    "\n",
    "svm = SVC(kernel='rbf', random_state=0, gamma=.10, C=1.0)\n",
    "svm.fit(X_train_std, y_train)\n",
    "print('SVM Algoritmasının eğitim verisi doğruluk oranı = %{:.2f}'.format(svm.score(X_train_std, y_train)*100))\n",
    "print('SVM Algoritmasının test verisi doğruluk oranı = %{:.2f}'.format(svm.score(X_test_std, y_test)*100))"
   ]
  },
  {
   "cell_type": "code",
   "execution_count": 26,
   "metadata": {},
   "outputs": [
    {
     "name": "stdout",
     "output_type": "stream",
     "text": [
      "KNN Algoritmasının eğitim verisi doğruluk oranı = %96.00\n",
      "KNN Algoritmasının test verisi doğruluk oranı = %93.33\n"
     ]
    }
   ],
   "source": [
    "#Knn\n",
    "from sklearn.neighbors import KNeighborsClassifier\n",
    "\n",
    "knn = KNeighborsClassifier(n_neighbors = 7, p = 2, metric='minkowski')\n",
    "knn.fit(X_train_std, y_train)\n",
    "\n",
    "print('KNN Algoritmasının eğitim verisi doğruluk oranı = %{:.2f}'.format(knn.score(X_train_std, y_train)*100))\n",
    "print('KNN Algoritmasının test verisi doğruluk oranı = %{:.2f}'.format(knn.score(X_test_std, y_test)*100))"
   ]
  },
  {
   "cell_type": "code",
   "execution_count": 27,
   "metadata": {},
   "outputs": [
    {
     "name": "stdout",
     "output_type": "stream",
     "text": [
      "XGBoost Algoritmasının eğitim verisi doğruluk oranı = %100.00\n",
      "XGBoost Algoritmasının test verisi doğruluk oranı = %93.33\n"
     ]
    }
   ],
   "source": [
    "#XGBoost\n",
    "import xgboost as xgb\n",
    "\n",
    "xgb_clf = xgb.XGBClassifier()\n",
    "xgb_clf = xgb_clf.fit(X_train_std, y_train)\n",
    "\n",
    "print('XGBoost Algoritmasının eğitim verisi doğruluk oranı = %{:.2f}'.format(xgb_clf.score(X_train_std, y_train)*100))\n",
    "print('XGBoost Algoritmasının test verisi doğruluk oranı = %{:.2f}'.format(xgb_clf.score(X_test_std, y_test)*100))"
   ]
  },
  {
   "cell_type": "code",
   "execution_count": 28,
   "metadata": {},
   "outputs": [
    {
     "name": "stdout",
     "output_type": "stream",
     "text": [
      "Decision Tree Algoritmasının eğitim verisi doğruluk oranı = %100.00\n",
      "Decision Tree Algoritmasının test verisi doğruluk oranı = %92.00\n"
     ]
    }
   ],
   "source": [
    "#Decision Tree\n",
    "from sklearn import tree\n",
    "\n",
    "decision_tree = tree.DecisionTreeClassifier(criterion='gini')\n",
    "decision_tree.fit(X_train_std, y_train)\n",
    "\n",
    "print('Decision Tree Algoritmasının eğitim verisi doğruluk oranı = %{:.2f}'.format(decision_tree.score(X_train_std, y_train)*100))\n",
    "print('Decision Tree Algoritmasının test verisi doğruluk oranı = %{:.2f}'.format(decision_tree.score(X_test_std, y_test)*100))"
   ]
  },
  {
   "cell_type": "code",
   "execution_count": 29,
   "metadata": {},
   "outputs": [
    {
     "name": "stdout",
     "output_type": "stream",
     "text": [
      "Random Forest Algoritmasının eğitim verisi doğruluk oranı = %100.00\n",
      "Random Forest Algoritmasının test verisi doğruluk oranı = %93.33\n"
     ]
    }
   ],
   "source": [
    "#RandomForest\n",
    "from sklearn.ensemble import RandomForestClassifier\n",
    "\n",
    "random_forest = RandomForestClassifier()\n",
    "random_forest.fit(X_train_std, y_train)\n",
    "\n",
    "print('Random Forest Algoritmasının eğitim verisi doğruluk oranı = %{:.2f}'.format(random_forest.score(X_train_std, y_train)*100))\n",
    "print('Random Forest Algoritmasının test verisi doğruluk oranı = %{:.2f}'.format(random_forest.score(X_test_std, y_test)*100))"
   ]
  }
 ],
 "metadata": {
  "kernelspec": {
   "display_name": "Python 3.8.13 ('vision')",
   "language": "python",
   "name": "python3"
  },
  "language_info": {
   "codemirror_mode": {
    "name": "ipython",
    "version": 3
   },
   "file_extension": ".py",
   "mimetype": "text/x-python",
   "name": "python",
   "nbconvert_exporter": "python",
   "pygments_lexer": "ipython3",
   "version": "3.8.13"
  },
  "orig_nbformat": 4,
  "vscode": {
   "interpreter": {
    "hash": "6a054021092e90be50a3e8e13c266eb49331767f606dbeaecffe8ccb9d3366ed"
   }
  }
 },
 "nbformat": 4,
 "nbformat_minor": 2
}
